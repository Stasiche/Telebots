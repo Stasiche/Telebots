{
 "cells": [
  {
   "cell_type": "code",
   "execution_count": 2,
   "metadata": {},
   "outputs": [],
   "source": [
    "import numpy as np"
   ]
  },
  {
   "cell_type": "code",
   "execution_count": 7,
   "metadata": {},
   "outputs": [
    {
     "name": "stdout",
     "output_type": "stream",
     "text": [
      "3.5\n"
     ]
    },
    {
     "data": {
      "text/plain": [
       "array([-0.41666667, -0.25      , -0.08333333,  0.08333333,  0.25      ,\n",
       "        0.41666667])"
      ]
     },
     "execution_count": 7,
     "metadata": {},
     "output_type": "execute_result"
    }
   ],
   "source": [
    "# persons = np.array([10, 20, 38,42, 54, 80])\n",
    "persons = np.array([1, 2, 3,4,5, 6])\n",
    "m = np.mean(persons)\n",
    "n = len(persons)\n",
    "print(m)\n",
    "d = (persons-m)/n\n",
    "d"
   ]
  },
  {
   "cell_type": "code",
   "execution_count": 11,
   "metadata": {},
   "outputs": [
    {
     "data": {
      "text/plain": [
       "array([[ 0.  ,  0.17,  0.33,  0.5 ,  0.67,  0.83],\n",
       "       [-0.17,  0.  ,  0.17,  0.33,  0.5 ,  0.67],\n",
       "       [-0.33, -0.17,  0.  ,  0.17,  0.33,  0.5 ],\n",
       "       [-0.5 , -0.33, -0.17,  0.  ,  0.17,  0.33],\n",
       "       [-0.67, -0.5 , -0.33, -0.17,  0.  ,  0.17],\n",
       "       [-0.83, -0.67, -0.5 , -0.33, -0.17,  0.  ]])"
      ]
     },
     "execution_count": 11,
     "metadata": {},
     "output_type": "execute_result"
    }
   ],
   "source": [
    "a = np.zeros((n,n))\n",
    "for i in range(n):\n",
    "    for j in range(i, n):\n",
    "        a[i,j] = d[j] - d[i]\n",
    "        a[j,i] = -a[i,j]\n",
    "    a[i,i] = 0\n",
    "np.round(a,2)"
   ]
  },
  {
   "cell_type": "code",
   "execution_count": 12,
   "metadata": {},
   "outputs": [
    {
     "data": {
      "text/plain": [
       "array([[ 0.  ,  0.17,  0.33,  0.5 ,  0.67,  0.83],\n",
       "       [ 0.  ,  0.  ,  0.  ,  0.33,  0.5 ,  0.67],\n",
       "       [ 0.  ,  0.  ,  0.  ,  0.  ,  0.  ,  0.5 ],\n",
       "       [-0.  , -0.33, -0.17,  0.  ,  0.  ,  0.  ],\n",
       "       [-0.5 , -0.5 , -0.33, -0.17,  0.  ,  0.  ],\n",
       "       [-0.83, -0.67, -0.5 , -0.33, -0.17,  0.  ]])"
      ]
     },
     "execution_count": 12,
     "metadata": {},
     "output_type": "execute_result"
    }
   ],
   "source": [
    "# b = np.zeros((n, n))\n",
    "# b[0] = a[0].copy()\n",
    "b = a.copy()\n",
    "for i in range(n):\n",
    "#     b[i] = a[i].copy()\n",
    "    neg_el = b[i] < 0\n",
    "    pos_el = b[i] > 0\n",
    "    sum_neg_abs = -b[i][neg_el].sum()\n",
    "    sum_pos = b[i][pos_el].sum()\n",
    "    \n",
    "    if sum_neg_abs < sum_pos:\n",
    "        bad_el = neg_el\n",
    "        good_el = pos_el\n",
    "        bad_sum = sum_neg_abs\n",
    "    else:\n",
    "        bad_el = pos_el\n",
    "        good_el = neg_el\n",
    "        bad_sum = sum_pos\n",
    "        \n",
    "    sign = np.sign(b[i][good_el])[0]\n",
    "    b[i][bad_el] = 0\n",
    "    j = 0\n",
    "    while bad_sum != 0:\n",
    "        if good_el[j]:\n",
    "            diff = bad_sum - sign*(b[i][j])\n",
    "            b[i][j] = sign*max(0, -diff)\n",
    "            bad_sum = max(0, diff)\n",
    "        j += 1\n",
    "        \n",
    "np.round(b,2)"
   ]
  },
  {
   "cell_type": "code",
   "execution_count": null,
   "metadata": {},
   "outputs": [],
   "source": []
  }
 ],
 "metadata": {
  "kernelspec": {
   "display_name": "Python 3",
   "language": "python",
   "name": "python3"
  },
  "language_info": {
   "codemirror_mode": {
    "name": "ipython",
    "version": 3
   },
   "file_extension": ".py",
   "mimetype": "text/x-python",
   "name": "python",
   "nbconvert_exporter": "python",
   "pygments_lexer": "ipython3",
   "version": "3.6.8"
  }
 },
 "nbformat": 4,
 "nbformat_minor": 4
}
